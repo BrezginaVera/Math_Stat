{
  "nbformat": 4,
  "nbformat_minor": 0,
  "metadata": {
    "colab": {
      "name": "Mat_Stat_3.ipynb",
      "provenance": [],
      "collapsed_sections": []
    },
    "kernelspec": {
      "name": "python3",
      "display_name": "Python 3"
    },
    "language_info": {
      "name": "python"
    }
  },
  "cells": [
    {
      "cell_type": "code",
      "metadata": {
        "colab": {
          "base_uri": "https://localhost:8080/",
          "height": 231
        },
        "id": "FD-4jmVBcypb",
        "outputId": "856334c1-b2e0-4af7-c884-3384f4832223"
      },
      "source": [
        "#Домашнее задание 3. Задание 1\n",
        "import numpy as np\n",
        "z = np.array([100, 80, 75, 77, 89, 33, 45, 25, 65, 17, 30, 24, 57, 55, 70, 75, 65, 84, 90, 150])\n",
        "n = len(z)\n",
        "s = np.sum(z)\n",
        "M = s/n\n",
        "S = 0\n",
        "i = 0\n",
        "while i < (n + 1):\n",
        "  S += (z[i] - M)**2\n",
        "\n",
        "D1 = S/n\n",
        "D2 = S/(n-1)\n",
        "print (M, S, D1, D2)"
      ],
      "execution_count": 26,
      "outputs": [
        {
          "output_type": "error",
          "ename": "KeyboardInterrupt",
          "evalue": "ignored",
          "traceback": [
            "\u001b[0;31m---------------------------------------------------------------------------\u001b[0m",
            "\u001b[0;31mKeyboardInterrupt\u001b[0m                         Traceback (most recent call last)",
            "\u001b[0;32m<ipython-input-26-3973f658b8a9>\u001b[0m in \u001b[0;36m<module>\u001b[0;34m()\u001b[0m\n\u001b[1;32m      8\u001b[0m \u001b[0mi\u001b[0m \u001b[0;34m=\u001b[0m \u001b[0;36m0\u001b[0m\u001b[0;34m\u001b[0m\u001b[0;34m\u001b[0m\u001b[0m\n\u001b[1;32m      9\u001b[0m \u001b[0;32mwhile\u001b[0m \u001b[0mi\u001b[0m \u001b[0;34m<\u001b[0m \u001b[0;34m(\u001b[0m\u001b[0mn\u001b[0m \u001b[0;34m+\u001b[0m \u001b[0;36m1\u001b[0m\u001b[0;34m)\u001b[0m\u001b[0;34m:\u001b[0m\u001b[0;34m\u001b[0m\u001b[0;34m\u001b[0m\u001b[0m\n\u001b[0;32m---> 10\u001b[0;31m   \u001b[0mS\u001b[0m \u001b[0;34m+=\u001b[0m \u001b[0;34m(\u001b[0m\u001b[0mz\u001b[0m\u001b[0;34m[\u001b[0m\u001b[0mi\u001b[0m\u001b[0;34m]\u001b[0m \u001b[0;34m-\u001b[0m \u001b[0mM\u001b[0m\u001b[0;34m)\u001b[0m\u001b[0;34m**\u001b[0m\u001b[0;36m2\u001b[0m\u001b[0;34m\u001b[0m\u001b[0;34m\u001b[0m\u001b[0m\n\u001b[0m\u001b[1;32m     11\u001b[0m \u001b[0;34m\u001b[0m\u001b[0m\n\u001b[1;32m     12\u001b[0m \u001b[0mD1\u001b[0m \u001b[0;34m=\u001b[0m \u001b[0mS\u001b[0m\u001b[0;34m/\u001b[0m\u001b[0mn\u001b[0m\u001b[0;34m\u001b[0m\u001b[0;34m\u001b[0m\u001b[0m\n",
            "\u001b[0;31mKeyboardInterrupt\u001b[0m: "
          ]
        }
      ]
    },
    {
      "cell_type": "code",
      "metadata": {
        "colab": {
          "base_uri": "https://localhost:8080/"
        },
        "id": "YM3nCxx4grjL",
        "outputId": "1fb7c50c-6abf-4ef5-83eb-7eeadb6d2f6b"
      },
      "source": [
        "#Домашнее задание 3. Задание 2\n",
        "P1 = 5/8 * 4/7 * 5/12 * 7/11 * 6/11 * 5/11\n",
        "P2 = 5/8 * 3/7 * 5/12 * 4/11 * 7/10 * 6/9\n",
        "P3 = 3/8 * 2/7 * 5/12 * 4/11 * 3/11 * 2/11\n",
        "P = P1 + P2 + P3\n",
        "print (P)"
      ],
      "execution_count": 14,
      "outputs": [
        {
          "output_type": "stream",
          "name": "stdout",
          "text": [
            "0.04322296161139136\n"
          ]
        }
      ]
    },
    {
      "cell_type": "code",
      "metadata": {
        "colab": {
          "base_uri": "https://localhost:8080/"
        },
        "id": "U9Z8uJovhCz0",
        "outputId": "9793f6e5-0c34-492a-9a1e-d4106d383818"
      },
      "source": [
        "#Домашнее задание 3. Задание 3\n",
        "P1 = 0.9 * 0.2 * 0.4\n",
        "P2 = 0.1 * 0.8 * 0.4\n",
        "P3 = 0.1 * 0.2 * 0.6\n",
        "print (P1, P2, P3)"
      ],
      "execution_count": 16,
      "outputs": [
        {
          "output_type": "stream",
          "name": "stdout",
          "text": [
            "0.07200000000000001 0.03200000000000001 0.012000000000000002\n"
          ]
        }
      ]
    },
    {
      "cell_type": "code",
      "metadata": {
        "colab": {
          "base_uri": "https://localhost:8080/"
        },
        "id": "JHkDqnSgikdB",
        "outputId": "9de47a31-f999-4c51-c214-0542ee5424eb"
      },
      "source": [
        "#Домашнее задание 3. Задание 4\n",
        "P1 = 0.8 * 0.3 * 0.1\n",
        "P2 = 0.2 * 0.7 * 0.1\n",
        "P3 = 0.2 * 0.3 * 0.9\n",
        "print (P1, P2, P3)"
      ],
      "execution_count": 17,
      "outputs": [
        {
          "output_type": "stream",
          "name": "stdout",
          "text": [
            "0.024 0.013999999999999999 0.054\n"
          ]
        }
      ]
    },
    {
      "cell_type": "code",
      "metadata": {
        "colab": {
          "base_uri": "https://localhost:8080/"
        },
        "id": "T8q0rKJkjiH5",
        "outputId": "940b984f-b642-4678-ecdc-1202cdb664be"
      },
      "source": [
        "#Домашнее задание 3. Задание 5\n",
        "P1 = 0.1 * 0.2 * 0.75\n",
        "P2 = 0.1 * 0.2 * 0.75 + 0.9 * 0.2 * 0.25 + 0.1 * 0.8 * 0.25\n",
        "P3 = P1 + P2 + 0.1 * 0.8 * 0.75 + 0.9 * 0.2 * 0.75 + 0.9 * 0.8 * 0.25\n",
        "P4 =  0.1 * 0.8 * 0.75 + 0.9 * 0.2 * 0.75 + 0.9 * 0.8 * 0.25 + P2\n",
        "print (P1, P2, P3, P4)"
      ],
      "execution_count": 18,
      "outputs": [
        {
          "output_type": "stream",
          "name": "stdout",
          "text": [
            "0.015000000000000003 0.08000000000000002 0.4700000000000001 0.455\n"
          ]
        }
      ]
    }
  ]
}