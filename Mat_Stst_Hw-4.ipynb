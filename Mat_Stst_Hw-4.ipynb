{
  "nbformat": 4,
  "nbformat_minor": 0,
  "metadata": {
    "colab": {
      "name": "Untitled7.ipynb",
      "provenance": [],
      "authorship_tag": "ABX9TyNHwdKVKf+PEYutgkrOtGWz",
      "include_colab_link": true
    },
    "kernelspec": {
      "name": "python3",
      "display_name": "Python 3"
    },
    "language_info": {
      "name": "python"
    }
  },
  "cells": [
    {
      "cell_type": "markdown",
      "metadata": {
        "id": "view-in-github",
        "colab_type": "text"
      },
      "source": [
        "<a href=\"https://colab.research.google.com/github/BrezginaVera/Math_Stat/blob/main/Mat_Stst_Hw-4.ipynb\" target=\"_parent\"><img src=\"https://colab.research.google.com/assets/colab-badge.svg\" alt=\"Open In Colab\"/></a>"
      ]
    },
    {
      "cell_type": "code",
      "metadata": {
        "id": "trBEFXCfEKYX"
      },
      "source": [
        "#Теория Вероятностей, домашнее задание 4, №3\n",
        "M(x) = -2\n",
        "D(x) = 16\n",
        "std(x) = 4"
      ],
      "execution_count": null,
      "outputs": []
    },
    {
      "cell_type": "code",
      "metadata": {
        "colab": {
          "base_uri": "https://localhost:8080/",
          "height": 129
        },
        "id": "oF-p5lolFH1G",
        "outputId": "b2e7a3b4-10ea-4c63-b550-607093de550a"
      },
      "source": [
        "#Теория Вероятностей, домашнее задание 4, №1\n",
        "M(x) = (200+800)/2\n",
        "D(x) = (800-200)**2/12\n",
        "print(M(x), D(x))"
      ],
      "execution_count": 4,
      "outputs": [
        {
          "output_type": "error",
          "ename": "SyntaxError",
          "evalue": "ignored",
          "traceback": [
            "\u001b[0;36m  File \u001b[0;32m\"<ipython-input-4-e09a180f7ed6>\"\u001b[0;36m, line \u001b[0;32m2\u001b[0m\n\u001b[0;31m    M(x) = (200+800)/2\u001b[0m\n\u001b[0m                      ^\u001b[0m\n\u001b[0;31mSyntaxError\u001b[0m\u001b[0;31m:\u001b[0m can't assign to function call\n"
          ]
        }
      ]
    },
    {
      "cell_type": "code",
      "metadata": {
        "colab": {
          "base_uri": "https://localhost:8080/",
          "height": 129
        },
        "id": "FUfrvndqI_sl",
        "outputId": "1f66de91-2760-49b9-f48b-7af1054ad987"
      },
      "source": [
        "#Теория Вероятностей, домашнее задание 4, №2\n",
        "D(x) = 0.2\n",
        "a = 0.5\n",
        "b = sqrt(D(x)*12) + a\n",
        "M(x) = (a+b)/2\n",
        "print(b, M(x))"
      ],
      "execution_count": 6,
      "outputs": [
        {
          "output_type": "error",
          "ename": "SyntaxError",
          "evalue": "ignored",
          "traceback": [
            "\u001b[0;36m  File \u001b[0;32m\"<ipython-input-6-af1fb4bed7a5>\"\u001b[0;36m, line \u001b[0;32m2\u001b[0m\n\u001b[0;31m    D(x) = 0.2\u001b[0m\n\u001b[0m              ^\u001b[0m\n\u001b[0;31mSyntaxError\u001b[0m\u001b[0;31m:\u001b[0m can't assign to function call\n"
          ]
        }
      ]
    },
    {
      "cell_type": "code",
      "metadata": {
        "colab": {
          "base_uri": "https://localhost:8080/",
          "height": 129
        },
        "id": "2S1Mef8mJy_T",
        "outputId": "22d210ba-d2d4-43d3-d35f-f9523f873135"
      },
      "source": [
        "#Теория Вероятностей, домашнее задание 4, №4\n",
        "M(x) = 174\n",
        "std(x) = 8\n",
        "a) 15.75%\n",
        "b) 2.15%\n",
        "c) 81.8%\n",
        "d) 68.2%\n",
        "e) 95.4%\n",
        "f) 2.30%\n",
        "g) 0.3%\n",
        "h) 15.75%"
      ],
      "execution_count": 7,
      "outputs": [
        {
          "output_type": "error",
          "ename": "SyntaxError",
          "evalue": "ignored",
          "traceback": [
            "\u001b[0;36m  File \u001b[0;32m\"<ipython-input-7-858f8c6abf0a>\"\u001b[0;36m, line \u001b[0;32m2\u001b[0m\n\u001b[0;31m    M(x) = 174\u001b[0m\n\u001b[0m              ^\u001b[0m\n\u001b[0;31mSyntaxError\u001b[0m\u001b[0;31m:\u001b[0m can't assign to function call\n"
          ]
        }
      ]
    },
    {
      "cell_type": "code",
      "metadata": {
        "id": "1J70iSVUNvT9"
      },
      "source": [
        "#Теория Вероятностей, домашнее задание 4, №5\n",
        "M(x) = 178\n",
        "std(x) = 5\n",
        "sum_std = (190-178)/5"
      ],
      "execution_count": null,
      "outputs": []
    }
  ]
}