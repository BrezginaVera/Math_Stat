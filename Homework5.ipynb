{
  "nbformat": 4,
  "nbformat_minor": 0,
  "metadata": {
    "colab": {
      "name": "Untitled9.ipynb",
      "provenance": [],
      "authorship_tag": "ABX9TyO+h9OnH9RJ/tYdRUWpgTqn",
      "include_colab_link": true
    },
    "kernelspec": {
      "name": "python3",
      "display_name": "Python 3"
    },
    "language_info": {
      "name": "python"
    }
  },
  "cells": [
    {
      "cell_type": "markdown",
      "metadata": {
        "id": "view-in-github",
        "colab_type": "text"
      },
      "source": [
        "<a href=\"https://colab.research.google.com/github/BrezginaVera/Math_Stat/blob/main/Homework5.ipynb\" target=\"_parent\"><img src=\"https://colab.research.google.com/assets/colab-badge.svg\" alt=\"Open In Colab\"/></a>"
      ]
    },
    {
      "cell_type": "code",
      "metadata": {
        "colab": {
          "base_uri": "https://localhost:8080/"
        },
        "id": "386Cyh15SAW3",
        "outputId": "0e16a810-d71f-45e3-904f-46f3f1402cc8"
      },
      "source": [
        "#Домашнее задание 5. Задание 1\n",
        "sigma = 16\n",
        "alpha = 0.05\n",
        "M = 80\n",
        "n = 256\n",
        "Z_alpha = 1.65\n",
        "a1 = M + Z_alpha + sigma/16\n",
        "a2 = M - Z_alpha + sigma/16\n",
        "print(a2, a1)"
      ],
      "execution_count": 4,
      "outputs": [
        {
          "output_type": "stream",
          "name": "stdout",
          "text": [
            "79.35 82.65\n"
          ]
        }
      ]
    },
    {
      "cell_type": "code",
      "metadata": {
        "colab": {
          "base_uri": "https://localhost:8080/"
        },
        "id": "tdaNms4DUHq4",
        "outputId": "e14e93b9-407d-4e5e-e36c-0596c5251a33"
      },
      "source": [
        "#Домашнее задание 5. Задание 2\n",
        "alpha = 0.05\n",
        "M = 6.59\n",
        "n = 10\n",
        "t_alpha = 26\n",
        "x1 = 6.9\n",
        "x2 = 6.1\n",
        "x3 = 6.2\n",
        "x4 = 6.8\n",
        "x5 = 7.5\n",
        "x6 = 6.3\n",
        "x7 = 6.4\n",
        "x8 = 6.9\n",
        "x9 = 6.7\n",
        "x10 = 6.1\n",
        "sigma1 = (x1 - M)**2/9\n",
        "sigma2 = (x2 - M)**2/9\n",
        "sigma3 = (x3 - M)**2/9\n",
        "sigma4 = (x4 - M)**2/9\n",
        "sigma5 = (x5 - M)**2/9\n",
        "sigma6 = (x6 - M)**2/9\n",
        "sigma7 = (x7 - M)**2/9\n",
        "sigma8 = (x8 - M)**2/9\n",
        "sigma9 = (x9 - M)**2/9\n",
        "sigma10 = (x10 - M)**2/9\n",
        "sigma = sigma1 + sigma2 + sigma3 + sigma4 + sigma5 + sigma6 + sigma7 + sigma8 + sigma9 + sigma10\n",
        "a1 = M + t_alpha + (sigma/n)**0.5\n",
        "a2 = M - t_alpha + (sigma/n)**0.5\n",
        "print(a2, a1)"
      ],
      "execution_count": 12,
      "outputs": [
        {
          "output_type": "stream",
          "name": "stdout",
          "text": [
            "-19.267443968131047 32.73255603186896\n"
          ]
        }
      ]
    },
    {
      "cell_type": "code",
      "metadata": {
        "colab": {
          "base_uri": "https://localhost:8080/"
        },
        "id": "jHHarBe_YmQR",
        "outputId": "5bbac78d-5075-4c0a-93fe-755464250fc1"
      },
      "source": [
        "#Домашнее задание 5. Задание 3\n",
        "alpha = 0.05\n",
        "M1 = 17\n",
        "M2 = 17.5\n",
        "n = 100\n",
        "sigma = 2\n",
        "#H0 = M1 = M2\n",
        "#H1 = M1 < M2\n",
        "Zn = (M2 - M1)/(sigma/n**0.5)\n",
        "Zp = 1.65 \n",
        "print(Zn)\n",
        "#принимаем нулевую гипотезу "
      ],
      "execution_count": 14,
      "outputs": [
        {
          "output_type": "stream",
          "name": "stdout",
          "text": [
            "2.5\n"
          ]
        }
      ]
    },
    {
      "cell_type": "code",
      "metadata": {
        "colab": {
          "base_uri": "https://localhost:8080/"
        },
        "id": "ltdpiHvXdbZv",
        "outputId": "f08d2ea9-d7d3-4054-dd5d-6f0ffa361ed5"
      },
      "source": [
        "#Домашнее задание 5. Задание 4\n",
        "alpha = 0.01\n",
        "M1 = 200\n",
        "n = 10\n",
        "x1 = 202\n",
        "x2 = 203\n",
        "x3 = 199\n",
        "x4 = 197\n",
        "x5 = 201\n",
        "x6 = 200\n",
        "x7 = 204\n",
        "x8 = 194\n",
        "x9 = 195\n",
        "x10 = 190\n",
        "M2 = (x1 + x2 + x3 + x4 + x5 + x6 + x7 + x8 + x9 + x10)/n\n",
        "#H0 = M1 = M2\n",
        "#H1 = M1 < M2\n",
        "sigma1 = (x1 - M2)**2/9\n",
        "sigma2 = (x2 - M2)**2/9\n",
        "sigma3 = (x3 - M2)**2/9\n",
        "sigma4 = (x4 - M2)**2/9\n",
        "sigma5 = (x5 - M2)**2/9\n",
        "sigma6 = (x6 - M2)**2/9\n",
        "sigma7 = (x7 - M2)**2/9\n",
        "sigma8 = (x8 - M2)**2/9\n",
        "sigma9 = (x9 - M2)**2/9\n",
        "sigma10 = (x10 - M2)**2/9\n",
        "sigma = sigma1 + sigma2 + sigma3 + sigma4 + sigma5 + sigma6 + sigma7 + sigma8 + sigma9 + sigma10\n",
        "tn = (M1 - M2)/(sigma/n)**0.5\n",
        "tp = 2.821\n",
        "print (tn)\n",
        "#принимаем нулевую гипотезу\n",
        "\n"
      ],
      "execution_count": 22,
      "outputs": [
        {
          "output_type": "stream",
          "name": "stdout",
          "text": [
            "1.0651074037450894\n"
          ]
        }
      ]
    }
  ]
}