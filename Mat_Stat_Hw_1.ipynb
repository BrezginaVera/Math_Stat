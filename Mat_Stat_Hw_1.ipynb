{
  "nbformat": 4,
  "nbformat_minor": 0,
  "metadata": {
    "colab": {
      "name": "Untitled8.ipynb",
      "provenance": [],
      "authorship_tag": "ABX9TyNAwevytt30gg1oLabmQe0I",
      "include_colab_link": true
    },
    "kernelspec": {
      "name": "python3",
      "display_name": "Python 3"
    },
    "language_info": {
      "name": "python"
    }
  },
  "cells": [
    {
      "cell_type": "markdown",
      "metadata": {
        "id": "view-in-github",
        "colab_type": "text"
      },
      "source": [
        "<a href=\"https://colab.research.google.com/github/BrezginaVera/Math_Stat/blob/main/Mat_Stat_Hw_1.ipynb\" target=\"_parent\"><img src=\"https://colab.research.google.com/assets/colab-badge.svg\" alt=\"Open In Colab\"/></a>"
      ]
    },
    {
      "cell_type": "code",
      "metadata": {
        "colab": {
          "base_uri": "https://localhost:8080/"
        },
        "id": "RpvUCQtXWq09",
        "outputId": "759aef96-02e8-41e1-daf1-6b6390ae0680"
      },
      "source": [
        "#Домашнее задание 1. Задание 1\n",
        "import math\n",
        "#a)\n",
        "C1 = math.factorial(13)/(math.factorial(4)*math.factorial(9))\n",
        "C = math.factorial(52)/(math.factorial(4)*math.factorial(48))\n",
        "P1 = C1/C\n",
        "print(P1)\n",
        "#b)\n",
        "C11 = math.factorial(4)/(math.factorial(1)*math.factorial(3))\n",
        "C111 = math.factorial(52)/(math.factorial(3)*math.factorial(49))\n",
        "C12 = math.factorial(4)/(math.factorial(2)*math.factorial(2))\n",
        "C122 = math.factorial(52)/(math.factorial(2)*math.factorial(50))\n",
        "C13 = math.factorial(4)/(math.factorial(3)*math.factorial(1))\n",
        "C133  =math.factorial(52)/(math.factorial(1)*math.factorial(51))\n",
        "C14 = math.factorial(4)/(math.factorial(4)*math.factorial(0))\n",
        "C144 = math.factorial(52)/(math.factorial(0)*math.factorial(52))\n",
        "P2 = (C11*C111 + C12*C122 + C13*C133 + C14*C144)/C\n",
        "print(P2)"
      ],
      "execution_count": 5,
      "outputs": [
        {
          "output_type": "stream",
          "name": "stdout",
          "text": [
            "0.0026410564225690276\n",
            "0.35669036845507435\n"
          ]
        }
      ]
    },
    {
      "cell_type": "code",
      "metadata": {
        "colab": {
          "base_uri": "https://localhost:8080/"
        },
        "id": "TA2MgXV1ZJwC",
        "outputId": "931731bc-1e31-4643-c3f5-b97135cce233"
      },
      "source": [
        "#Домашнее задание 1. Задание 2\n",
        "import math\n",
        "C = math.factorial(10)/(math.factorial(3)*math.factorial(7))\n",
        "P = 1/C\n",
        "print(P)"
      ],
      "execution_count": 6,
      "outputs": [
        {
          "output_type": "stream",
          "name": "stdout",
          "text": [
            "0.008333333333333333\n"
          ]
        }
      ]
    },
    {
      "cell_type": "code",
      "metadata": {
        "colab": {
          "base_uri": "https://localhost:8080/"
        },
        "id": "-8ZaFHJVZVXY",
        "outputId": "f5e02573-c365-43bf-f7e6-dd279191d5bb"
      },
      "source": [
        "#Домашнее задание 1. Задание 3\n",
        "import math\n",
        "C1 = math.factorial(9)/(math.factorial(3)*math.factorial(6))\n",
        "C = math.factorial(15)/(math.factorial(3)*math.factorial(12))\n",
        "P = C1/C\n",
        "print(P)"
      ],
      "execution_count": 7,
      "outputs": [
        {
          "output_type": "stream",
          "name": "stdout",
          "text": [
            "0.18461538461538463\n"
          ]
        }
      ]
    },
    {
      "cell_type": "code",
      "metadata": {
        "colab": {
          "base_uri": "https://localhost:8080/"
        },
        "id": "8t03YNdRZhSI",
        "outputId": "9fc01318-7aca-4288-95b9-a3573552407a"
      },
      "source": [
        "#Домашнее задание 1. Задание 4\n",
        "import math\n",
        "C = math.factorial(100)/(math.factorial(2)*math.factorial(98))\n",
        "P = 1/C\n",
        "print(P)"
      ],
      "execution_count": 8,
      "outputs": [
        {
          "output_type": "stream",
          "name": "stdout",
          "text": [
            "0.00020202020202020202\n"
          ]
        }
      ]
    }
  ]
}