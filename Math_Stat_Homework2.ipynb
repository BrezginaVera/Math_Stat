{
  "nbformat": 4,
  "nbformat_minor": 0,
  "metadata": {
    "colab": {
      "name": "Untitled5.ipynb",
      "provenance": [],
      "collapsed_sections": [],
      "authorship_tag": "ABX9TyOeDvkij2nvOScQnEt03VC0",
      "include_colab_link": true
    },
    "kernelspec": {
      "name": "python3",
      "display_name": "Python 3"
    },
    "language_info": {
      "name": "python"
    }
  },
  "cells": [
    {
      "cell_type": "markdown",
      "metadata": {
        "id": "view-in-github",
        "colab_type": "text"
      },
      "source": [
        "<a href=\"https://colab.research.google.com/github/BrezginaVera/Math_Stat/blob/main/Math_Stat_Homework2.ipynb\" target=\"_parent\"><img src=\"https://colab.research.google.com/assets/colab-badge.svg\" alt=\"Open In Colab\"/></a>"
      ]
    },
    {
      "cell_type": "code",
      "metadata": {
        "colab": {
          "base_uri": "https://localhost:8080/"
        },
        "id": "0QT_sDltl-33",
        "outputId": "3c097ed4-081d-495e-c524-9f59f473834f"
      },
      "source": [
        "#Теория Вероятностей Дом/задание 2 №1 \n",
        "import math\n",
        "p = 0.8\n",
        "q = 0.2\n",
        "n = 100\n",
        "k = 85\n",
        "P = math.factorial(n)/(math.factorial(k)*math.factorial(n-k))*p**k*q**(n-k)\n",
        "P"
      ],
      "execution_count": 45,
      "outputs": [
        {
          "output_type": "execute_result",
          "data": {
            "text/plain": [
              "0.048061793700746556"
            ]
          },
          "metadata": {},
          "execution_count": 45
        }
      ]
    },
    {
      "cell_type": "code",
      "metadata": {
        "colab": {
          "base_uri": "https://localhost:8080/"
        },
        "id": "kAsD59Aapbql",
        "outputId": "17990ca3-3cfd-46e2-ad0a-ac4768d9b4a2"
      },
      "source": [
        "#Теория Вероятностей Дом/задание 2 №2\n",
        "import math\n",
        "m = 2\n",
        "m1 = 0\n",
        "p = 0.0004\n",
        "n = 5000\n",
        "liamda = p*n\n",
        "P = liamda**m/math.factorial(m)*math.exp(-liamda)\n",
        "P1 = liamda**m1/math.factorial(m1)*math.exp(-liamda)\n"
      ],
      "execution_count": 6,
      "outputs": [
        {
          "output_type": "stream",
          "name": "stdout",
          "text": [
            "0.1353352832366127\n"
          ]
        }
      ]
    },
    {
      "cell_type": "code",
      "metadata": {
        "colab": {
          "base_uri": "https://localhost:8080/"
        },
        "id": "GsuZJJvesKE-",
        "outputId": "538e77f1-9971-41a8-b3b5-6e43684a35cf"
      },
      "source": [
        "#Теория Вероятностей Дом/задание 2 №3\n",
        "import math\n",
        "p = 0.5\n",
        "q = 0.5\n",
        "n = 144\n",
        "k = 70\n",
        "P = math.factorial(n)/(math.factorial(k)*math.factorial(n-k))*p**k*q**(n-k)\n",
        "P"
      ],
      "execution_count": 49,
      "outputs": [
        {
          "output_type": "execute_result",
          "data": {
            "text/plain": [
              "0.06281178035144776"
            ]
          },
          "metadata": {},
          "execution_count": 49
        }
      ]
    },
    {
      "cell_type": "code",
      "metadata": {
        "colab": {
          "base_uri": "https://localhost:8080/"
        },
        "id": "H6C-62jpzbri",
        "outputId": "de4e06c6-19b4-4979-c12f-d6aee1bd5faa"
      },
      "source": [
        "#Теория Вероятностей Дом/задание 2 №4\n",
        "import math\n",
        "p1 = 0.5\n",
        "p2 = 0.5\n",
        "c11 = math.factorial(7)/(math.factorial(2)*math.factorial(7-2))\n",
        "c1 = math.factorial(10)/(math.factorial(2)*math.factorial(10-2))\n",
        "c22 = math.factorial(9)/(math.factorial(2)*math.factorial(9-2))\n",
        "c2 = math.factorial(11)/(math.factorial(2)*math.factorial(11-2))\n",
        "p11 = c11/c1\n",
        "p22 = c22/c22\n",
        "P = p1*p11 + p2*p22\n",
        "P #вероятность того, что все мячи белые \n",
        "c110 = math.factorial(7)/(math.factorial(0)*math.factorial(7-0))\n",
        "c111 = math.factorial(7)/(math.factorial(1)*math.factorial(7-1))\n",
        "c220 = math.factorial(9)/(math.factorial(0)*math.factorial(9-0))\n",
        "c221 = math.factorial(9)/(math.factorial(1)*math.factorial(9-1))\n",
        "p110 = c110/c1\n",
        "p111 = c111/c1\n",
        "p220 = c220/c2\n",
        "p221 = c221/c2\n",
        "P2 = p1*(p11 + p110 + p111) + p2*(p220 + p221 + p22)\n",
        "P2 #вероятность того, что ровно 2 мяча белые \n",
        "P3 = p1*(p11 + 2*p110 + 2*p111) + p2*(2*p220 + 2*p221 + p22)\n",
        "P3 #вероятность того, что хотя бы 1 мяч белый  "
      ],
      "execution_count": 52,
      "outputs": [
        {
          "output_type": "execute_result",
          "data": {
            "text/plain": [
              "1.092929292929293"
            ]
          },
          "metadata": {},
          "execution_count": 52
        }
      ]
    }
  ]
}